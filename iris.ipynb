{
 "cells": [
  {
   "cell_type": "markdown",
   "id": "1ffb2de9-bf0e-46ca-b6ae-9acf05c59d7e",
   "metadata": {},
   "source": [
    "# Iris Recognition for Biometrics\n",
    "\n"
   ]
  },
  {
   "cell_type": "markdown",
   "id": "095f3166-44cd-4917-a3e0-576ef9c8cd2e",
   "metadata": {},
   "source": [
    "## Background:\n",
    "Normal human vision consists of a series of rapid eye movements called saccades, which exhibit ballistic and abrupt motion behavior. By tracking optokinetic motion with displayed stimulus patterns on a screen, a person's visual performance can be measured from their gaze. Eye trackers are used in visual system research, psychology, psycholinguistics, marketing, and even to detect drowsiness in drivers."
   ]
  },
  {
   "cell_type": "markdown",
   "id": "9179cae4-1af6-4065-8b55-5c9acbd5bc26",
   "metadata": {},
   "source": [
    "## The problem:\n",
    "Capturing and processing biodata in the real world is noisy and tedious. Describe a DL /AI architecture, algorithm, framework, bioinformatics approach, protocol, method, or approach you would take to process and extract human gaze from a camera"
   ]
  },
  {
   "cell_type": "markdown",
   "id": "62851b27-68b7-4065-9d00-f7fd84956ef0",
   "metadata": {},
   "source": [
    "## Proposed Solution: \n",
    "For this problem, I will be using the Daugman Algorithm so that I will be able to detect the iris of an eye."
   ]
  },
  {
   "cell_type": "code",
   "execution_count": 19,
   "id": "a128cb34-7f3d-4ba0-9985-7a306e4dd9ba",
   "metadata": {},
   "outputs": [],
   "source": [
    "## imports\n",
    "\n",
    "import numpy as np\n",
    "import cv2\n",
    "import itertools\n",
    "import math\n"
   ]
  },
  {
   "cell_type": "code",
   "execution_count": 263,
   "id": "bdd893f4-0fe4-45d1-b7df-181acf897ef2",
   "metadata": {},
   "outputs": [],
   "source": [
    "def daugman(grey_image, center, min_radius, max_radius, step):\n",
    "    \n",
    "    intensities = []\n",
    "    list_of_radiuses = list(range(min_radius, max_radius, step)) # list of radius rings we want to analyse\n",
    "    mask = np.zeros_like(grey_image)\n",
    "    for radius in list_of_radiuses:\n",
    "        # drawing a circle on the mask\n",
    "        cv2.circle(mask, center, radius, 255, 1)\n",
    "        \n",
    "        # extracting out the ring\n",
    "        contrast = grey_image & mask\n",
    "        \n",
    "        total_intensity = np.sum(contrast.flatten())\n",
    "        average_intensity = total_intensity / (2 * math.pi * radius) # finding the average intensity\n",
    "        intensities.append(average_intensity)\n",
    "\n",
    "        mask = np.zeros_like(grey_image) # restart mask\n",
    "    \n",
    "    \n",
    "    intensities = np.array(intensities)\n",
    "    \n",
    "    # finding the difference between each intensity ring\n",
    "    intensities_diff = np.diff(intensities)\n",
    "    \n",
    "    intensities_diff = abs(cv2.GaussianBlur(intensities_diff, (1, 5), 0))\n",
    "\n",
    "\n",
    "    index = np.argmax(intensities_diff) # finding the index of the maximum difference in intensity\n",
    "    \n",
    "    return intensities_diff[index], list_of_radiuses[index]\n",
    "        \n",
    "        \n",
    "        \n",
    "    \n",
    "    "
   ]
  },
  {
   "cell_type": "code",
   "execution_count": 264,
   "id": "ae405bd6-f92a-4d30-9d85-1f110d5259f2",
   "metadata": {},
   "outputs": [],
   "source": [
    "def iris(grey_image, min_radius, max_radius, step_coords, step_radius):\n",
    "    \n",
    "    height, width = grey_image.shape\n",
    "    if height != width:\n",
    "        # crop image into a square\n",
    "        if height < width:\n",
    "            grey_image = grey_image[:, int((width-height)/2): width-int((width-height)/2)-1]\n",
    "        else:\n",
    "            grey_image = grey_image[int((height-width)/2): height-int((height-width)/2)-1,:]\n",
    "        \n",
    "    height, width = grey_image.shape\n",
    "        \n",
    "    # let us assume that the iris is in the centre 1/3 of the image\n",
    "    \n",
    "    # list of coordinates that are inside the centre 1/3 of the image...\n",
    "    one_third_x = list(range(int(height/3), int(height/3 * 2), step_coords))\n",
    "    centre_third_square = itertools.product(one_third_x, one_third_x) # collecting coordinates in the centre 1/3\n",
    "    intensity = []\n",
    "    coords = []\n",
    "    \n",
    "    for pt in centre_third_square:\n",
    "        intenseness, radius = daugman(grey_image, pt, min_radius, max_radius, step_radius)\n",
    "        intensity.append(intenseness)\n",
    "        coords.append((pt, radius))\n",
    "        \n",
    "    \n",
    "    intensity = np.array(intensity)\n",
    "    max_index = np.argmax(intensity)\n",
    "\n",
    "    return coords[max_index]\n",
    "    \n",
    "    "
   ]
  },
  {
   "cell_type": "code",
   "execution_count": 265,
   "id": "0535074f-8bbe-43c0-8598-85c328923c11",
   "metadata": {},
   "outputs": [
    {
     "data": {
      "text/plain": [
       "(array([19.09859317]), 2)"
      ]
     },
     "execution_count": 265,
     "metadata": {},
     "output_type": "execute_result"
    }
   ],
   "source": [
    "image = cv2.imread('eye2.jpg')\n",
    "image = cv2.cvtColor(image, cv2.COLOR_BGR2GRAY)\n",
    "daugman(image, (5, 5), 2, 10, 3)\n",
    "\n",
    "\n"
   ]
  },
  {
   "cell_type": "code",
   "execution_count": 266,
   "id": "967cc709-ca5d-4dc4-b9c5-651a6cd4ffab",
   "metadata": {},
   "outputs": [
    {
     "data": {
      "text/plain": [
       "((58, 57), 36)"
      ]
     },
     "execution_count": 266,
     "metadata": {},
     "output_type": "execute_result"
    }
   ],
   "source": [
    "iris(image, 15, 100, 1, 3)\n",
    "    \n",
    "    "
   ]
  },
  {
   "cell_type": "code",
   "execution_count": null,
   "id": "b6bebf8e-ac1b-411b-8d8f-b74b9c936db4",
   "metadata": {},
   "outputs": [],
   "source": []
  },
  {
   "cell_type": "code",
   "execution_count": null,
   "id": "baf757c1-67b4-49ba-abb1-ab32d099bb8c",
   "metadata": {},
   "outputs": [],
   "source": []
  }
 ],
 "metadata": {
  "kernelspec": {
   "display_name": "Python 3 (ipykernel)",
   "language": "python",
   "name": "python3"
  },
  "language_info": {
   "codemirror_mode": {
    "name": "ipython",
    "version": 3
   },
   "file_extension": ".py",
   "mimetype": "text/x-python",
   "name": "python",
   "nbconvert_exporter": "python",
   "pygments_lexer": "ipython3",
   "version": "3.9.12"
  }
 },
 "nbformat": 4,
 "nbformat_minor": 5
}
