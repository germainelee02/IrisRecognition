{
 "cells": [
  {
   "cell_type": "markdown",
   "id": "1ffb2de9-bf0e-46ca-b6ae-9acf05c59d7e",
   "metadata": {},
   "source": [
    "# Iris Recognition for Biometrics\n",
    "\n"
   ]
  },
  {
   "cell_type": "markdown",
   "id": "095f3166-44cd-4917-a3e0-576ef9c8cd2e",
   "metadata": {},
   "source": [
    "## Background:\n",
    "Normal human vision consists of a series of rapid eye movements called saccades, which exhibit ballistic and abrupt motion behavior. By tracking optokinetic motion with displayed stimulus patterns on a screen, a person's visual performance can be measured from their gaze. Eye trackers are used in visual system research, psychology, psycholinguistics, marketing, and even to detect drowsiness in drivers."
   ]
  },
  {
   "cell_type": "markdown",
   "id": "9179cae4-1af6-4065-8b55-5c9acbd5bc26",
   "metadata": {},
   "source": [
    "## The problem:\n",
    "Capturing and processing biodata in the real world is noisy and tedious. Describe a DL /AI architecture, algorithm, framework, bioinformatics approach, protocol, method, or approach you would take to process and extract human gaze from a camera"
   ]
  },
  {
   "cell_type": "markdown",
   "id": "62851b27-68b7-4065-9d00-f7fd84956ef0",
   "metadata": {},
   "source": [
    "## Proposed Solution: \n",
    "For this problem, I will be using the Daugman Algorithm so that I will be able to detect the iris of an eye."
   ]
  },
  {
   "cell_type": "code",
   "execution_count": 3,
   "id": "a128cb34-7f3d-4ba0-9985-7a306e4dd9ba",
   "metadata": {},
   "outputs": [],
   "source": [
    "## imports\n",
    "import numpy as np\n",
    "import cv2\n",
    "import itertools\n",
    "import math"
   ]
  },
  {
   "cell_type": "code",
   "execution_count": null,
   "id": "bdd893f4-0fe4-45d1-b7df-181acf897ef2",
   "metadata": {},
   "outputs": [],
   "source": [
    "def daugman(grey_image, center, max_radius, min_radius, step):\n",
    "    \n",
    "    \n",
    "    "
   ]
  }
 ],
 "metadata": {
  "kernelspec": {
   "display_name": "Python 3 (ipykernel)",
   "language": "python",
   "name": "python3"
  },
  "language_info": {
   "codemirror_mode": {
    "name": "ipython",
    "version": 3
   },
   "file_extension": ".py",
   "mimetype": "text/x-python",
   "name": "python",
   "nbconvert_exporter": "python",
   "pygments_lexer": "ipython3",
   "version": "3.9.12"
  }
 },
 "nbformat": 4,
 "nbformat_minor": 5
}
